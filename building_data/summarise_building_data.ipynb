{
 "cells": [
  {
   "cell_type": "markdown",
   "metadata": {},
   "source": [
    "# Summarise and Present Building Load Data"
   ]
  },
  {
   "cell_type": "code",
   "execution_count": null,
   "metadata": {},
   "outputs": [],
   "source": [
    "import os\n",
    "import re\n",
    "import numpy as np\n",
    "import pandas as pd\n",
    "import matplotlib.pyplot as plt"
   ]
  },
  {
   "cell_type": "code",
   "execution_count": null,
   "metadata": {},
   "outputs": [],
   "source": [
    "def get_building_summary_data(building_id, data_dir_path):\n",
    "\n",
    "    # load available data\n",
    "    building_dir = os.path.join(data_dir_path, f'UCam_Building_b{building_id}')\n",
    "    elec_dir = os.path.join(building_dir, 'electricity')\n",
    "    gas_dir = os.path.join(building_dir, 'gas')\n",
    "\n",
    "    if os.path.exists(elec_dir):\n",
    "        has_elec = True\n",
    "        elec_csvs = [f for f in os.listdir(elec_dir) if (os.path.isfile(os.path.join(elec_dir, f))) and (f.endswith('.csv'))]\n",
    "        elec_data = pd.concat([pd.read_csv(os.path.join(elec_dir, f)) for f in elec_csvs], ignore_index=True)\n",
    "        elec_data['datetime'] = pd.to_datetime(elec_data['datetime'])\n",
    "\n",
    "        mean_elec_load = elec_data['equipment load [kWh]'].mean()\n",
    "        n_elec_years = len(elec_data['datetime'].dt.year.unique())\n",
    "    else:\n",
    "        has_elec = False\n",
    "        mean_elec_load = 0\n",
    "        n_elec_years = 0\n",
    "\n",
    "    if os.path.exists(gas_dir):\n",
    "        has_gas = True\n",
    "        gas_csvs = [f for f in os.listdir(gas_dir) if (os.path.isfile(os.path.join(gas_dir, f))) and (f.endswith('.csv'))]\n",
    "        gas_data = pd.concat([pd.read_csv(os.path.join(gas_dir, f)) for f in gas_csvs], ignore_index=True)\n",
    "        gas_data['datetime'] = pd.to_datetime(gas_data['datetime'])\n",
    "\n",
    "        mean_gas_load = gas_data['heating load [kWh]'].mean()\n",
    "        n_gas_years = len(gas_data['datetime'].dt.year.unique())\n",
    "    else:\n",
    "        has_gas = False\n",
    "        mean_gas_load = 0\n",
    "        n_gas_years = 0\n",
    "\n",
    "    gia_path = os.path.join(data_dir_path, 'building_floor_roof_areas.csv')\n",
    "    gia_data = pd.read_csv(gia_path)\n",
    "    building_gia = gia_data[gia_data['Building ID'] == f'b{building_id}']['GIA (m2)'].values[0]\n",
    "\n",
    "    return {\n",
    "        'building_id': building_id,\n",
    "        'n_elec_years': n_elec_years,\n",
    "        'mean_elec_load': mean_elec_load,\n",
    "        'has_gas': has_gas,\n",
    "        'n_gas_years': n_gas_years,\n",
    "        'mean_gas_load': mean_gas_load,\n",
    "        'building_gia': building_gia\n",
    "    }"
   ]
  },
  {
   "cell_type": "code",
   "execution_count": null,
   "metadata": {},
   "outputs": [],
   "source": [
    "data_dir_path = os.path.join('processed_data')\n",
    "building_dirs = [f for f in os.listdir(data_dir_path) if os.path.isdir(os.path.join(data_dir_path, f))]\n",
    "regex = re.compile(r'\\d+')\n",
    "building_ids = sorted([int(*regex.findall(f)) for f in building_dirs])"
   ]
  },
  {
   "cell_type": "code",
   "execution_count": null,
   "metadata": {},
   "outputs": [],
   "source": [
    "summary_data = [get_building_summary_data(id,data_dir_path) for id in building_ids]"
   ]
  },
  {
   "cell_type": "code",
   "execution_count": null,
   "metadata": {},
   "outputs": [],
   "source": [
    "# plot summary data\n",
    "import matplotlib.ticker\n",
    "\n",
    "\n",
    "mean_elec_loads = [d['mean_elec_load'] for d in summary_data]\n",
    "has_gas = [0 if d['has_gas'] else 1 for d in summary_data]\n",
    "n_data_years = [d['n_elec_years'] + d['n_gas_years'] for d in summary_data]\n",
    "building_gias = [d['building_gia'] for d in summary_data]\n",
    "\n",
    "size_scale_exp = 1.5\n",
    "fig, ax = plt.subplots()\n",
    "sc = ax.scatter(building_gias, mean_elec_loads, c=has_gas, cmap='tab20c', s=np.array(n_data_years)**size_scale_exp, alpha=0.33)\n",
    "plt.xlabel('GIA (m^2)')\n",
    "plt.ylabel('Mean electricity load (kWh)')\n",
    "size_ticks = [10,20,30]\n",
    "size_leg = plt.legend(sc.legend_elements(\"sizes\", num=np.array(size_ticks)**size_scale_exp)[0], size_ticks, loc='upper right', title='No. data years')\n",
    "color_leg = plt.legend(sc.legend_elements(\"colors\")[0],['Has gas','No gas'], loc='upper left', title='Gas data?')\n",
    "ax.add_artist(size_leg)\n",
    "ax.add_artist(color_leg)\n",
    "plt.savefig('building_data_summary.png')\n",
    "\n",
    "plt.ylim(0, 200)\n",
    "plt.xlim(0, 8000)\n",
    "plt.savefig('building_data_summary_zoomed.png')"
   ]
  },
  {
   "cell_type": "markdown",
   "metadata": {},
   "source": [
    "ToDo: convert this to an interactive Plotly scatter plot with helpful hover info."
   ]
  },
  {
   "cell_type": "markdown",
   "metadata": {},
   "source": []
  }
 ],
 "metadata": {
  "kernelspec": {
   "display_name": "CEBD",
   "language": "python",
   "name": "python3"
  },
  "language_info": {
   "codemirror_mode": {
    "name": "ipython",
    "version": 3
   },
   "file_extension": ".py",
   "mimetype": "text/x-python",
   "name": "python",
   "nbconvert_exporter": "python",
   "pygments_lexer": "ipython3",
   "version": "3.9.19"
  }
 },
 "nbformat": 4,
 "nbformat_minor": 2
}
