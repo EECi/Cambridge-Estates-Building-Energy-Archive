{
 "cells": [
  {
   "cell_type": "markdown",
   "metadata": {},
   "source": [
    "# Find sets of building ids with continuously available data"
   ]
  },
  {
   "cell_type": "code",
   "execution_count": 1,
   "metadata": {},
   "outputs": [],
   "source": [
    "import os\n",
    "import re"
   ]
  },
  {
   "cell_type": "code",
   "execution_count": 2,
   "metadata": {},
   "outputs": [],
   "source": [
    "data_dir_path = os.path.join('processed_data')\n",
    "building_dirs = [f for f in os.listdir(data_dir_path) if os.path.isdir(os.path.join(data_dir_path, f))]\n",
    "regex = re.compile(r'\\d+')\n",
    "building_ids = sorted([int(*regex.findall(f)) for f in building_dirs])"
   ]
  },
  {
   "cell_type": "code",
   "execution_count": 3,
   "metadata": {},
   "outputs": [],
   "source": [
    "# find years of available data for each building\n",
    "building_years = {\n",
    "    'elec': {},\n",
    "    'gas': {}\n",
    "}\n",
    "\n",
    "for bid in building_ids:\n",
    "\n",
    "    building_dir = os.path.join(data_dir_path, f'UCam_Building_b{bid}')\n",
    "    elec_dir = os.path.join(building_dir, 'electricity')\n",
    "    gas_dir = os.path.join(building_dir, 'gas')\n",
    "\n",
    "    if os.path.exists(elec_dir):\n",
    "        year_files = [f for f in os.listdir(elec_dir) if (os.path.isfile(os.path.join(elec_dir, f))) and (f.endswith('.csv'))]\n",
    "        building_years['elec'][bid] = [int(*regex.findall(f)) for f in year_files]\n",
    "    else:\n",
    "        building_years['elec'][bid] = []\n",
    "\n",
    "    if os.path.exists(gas_dir):\n",
    "        year_files = [f for f in os.listdir(gas_dir) if (os.path.isfile(os.path.join(gas_dir, f))) and (f.endswith('.csv'))]\n",
    "        building_years['gas'][bid] = [int(*regex.findall(f)) for f in year_files]\n",
    "    else:\n",
    "        building_years['gas'][bid] = []"
   ]
  },
  {
   "cell_type": "code",
   "execution_count": 4,
   "metadata": {},
   "outputs": [],
   "source": [
    "first_year = min([min(building_years['elec'][bid] + building_years['gas'][bid]) for bid in building_ids])\n",
    "last_year = max([max(building_years['elec'][bid] + building_years['gas'][bid]) for bid in building_ids])\n",
    "years = list(range(first_year, last_year+1))\n",
    "\n",
    "durations = [5,6,8,10,12,15]\n",
    "windows = dict([d,[]] for d in durations)\n",
    "for d in durations: \n",
    "    for y in years:\n",
    "        if y+d-1 <= last_year:\n",
    "            windows[d].append((y,y+d-1))"
   ]
  },
  {
   "cell_type": "code",
   "execution_count": 5,
   "metadata": {},
   "outputs": [
    {
     "name": "stdout",
     "output_type": "stream",
     "text": [
      "{5: [(2000, 2004), (2001, 2005), (2002, 2006), (2003, 2007), (2004, 2008), (2005, 2009), (2006, 2010), (2007, 2011), (2008, 2012), (2009, 2013), (2010, 2014), (2011, 2015), (2012, 2016), (2013, 2017), (2014, 2018), (2015, 2019), (2016, 2020), (2017, 2021), (2018, 2022), (2019, 2023)], 6: [(2000, 2005), (2001, 2006), (2002, 2007), (2003, 2008), (2004, 2009), (2005, 2010), (2006, 2011), (2007, 2012), (2008, 2013), (2009, 2014), (2010, 2015), (2011, 2016), (2012, 2017), (2013, 2018), (2014, 2019), (2015, 2020), (2016, 2021), (2017, 2022), (2018, 2023)], 8: [(2000, 2007), (2001, 2008), (2002, 2009), (2003, 2010), (2004, 2011), (2005, 2012), (2006, 2013), (2007, 2014), (2008, 2015), (2009, 2016), (2010, 2017), (2011, 2018), (2012, 2019), (2013, 2020), (2014, 2021), (2015, 2022), (2016, 2023)], 10: [(2000, 2009), (2001, 2010), (2002, 2011), (2003, 2012), (2004, 2013), (2005, 2014), (2006, 2015), (2007, 2016), (2008, 2017), (2009, 2018), (2010, 2019), (2011, 2020), (2012, 2021), (2013, 2022), (2014, 2023)], 12: [(2000, 2011), (2001, 2012), (2002, 2013), (2003, 2014), (2004, 2015), (2005, 2016), (2006, 2017), (2007, 2018), (2008, 2019), (2009, 2020), (2010, 2021), (2011, 2022), (2012, 2023)], 15: [(2000, 2014), (2001, 2015), (2002, 2016), (2003, 2017), (2004, 2018), (2005, 2019), (2006, 2020), (2007, 2021), (2008, 2022), (2009, 2023)]}\n"
     ]
    }
   ],
   "source": [
    "print(windows)"
   ]
  },
  {
   "cell_type": "code",
   "execution_count": 6,
   "metadata": {},
   "outputs": [],
   "source": [
    "# find building ids with data available for each time window\n",
    "periods_availability_elec = dict([d,[]] for d in durations)\n",
    "periods_availability_both = dict([d,[]] for d in durations)\n",
    "for d in durations:\n",
    "    periods_availability_elec[d] = dict([('{0}:{1}'.format(*window),[0,[]]) for window in windows[d]])\n",
    "    periods_availability_both[d] = dict([('{0}:{1}'.format(*window),[0,[]]) for window in windows[d]])\n",
    "    for window in list(periods_availability_both[d].keys()):\n",
    "        start, end = window.split(':')\n",
    "        window_years = list(range(int(start),int(end)+1))\n",
    "        for bid in building_ids:\n",
    "            if all([y in building_years['elec'][bid] for y in window_years]):\n",
    "                periods_availability_elec[d][window][0] += 1\n",
    "                periods_availability_elec[d][window][1].append(bid)\n",
    "            if all([y in building_years['elec'][bid] and y in building_years['gas'][bid] for y in window_years]):\n",
    "                periods_availability_both[d][window][0] += 1\n",
    "                periods_availability_both[d][window][1].append(bid)"
   ]
  },
  {
   "cell_type": "code",
   "execution_count": 7,
   "metadata": {},
   "outputs": [
    {
     "name": "stdout",
     "output_type": "stream",
     "text": [
      "Duration: 5 years\n",
      "[('2019:2023', 66), ('2006:2010', 59), ('2008:2012', 55), ('2012:2016', 54), ('2015:2019', 54), ('2010:2014', 53), ('2011:2015', 52), ('2013:2017', 52), ('2009:2013', 50), ('2014:2018', 50), ('2005:2009', 45), ('2017:2021', 45), ('2016:2020', 43), ('2018:2022', 42), ('2007:2011', 38), ('2001:2005', 22), ('2003:2007', 22), ('2004:2008', 22), ('2000:2004', 21), ('2002:2006', 21)]\n",
      "Duration: 6 years\n",
      "[('2011:2016', 51), ('2012:2017', 51), ('2013:2018', 50), ('2010:2015', 48), ('2008:2013', 47), ('2014:2019', 46), ('2005:2010', 44), ('2009:2014', 43), ('2015:2020', 42), ('2017:2022', 40), ('2006:2011', 38), ('2007:2012', 38), ('2016:2021', 38), ('2018:2023', 38), ('2003:2008', 22), ('2001:2006', 21), ('2002:2007', 21), ('2004:2009', 21), ('2000:2005', 20)]\n",
      "Duration: 8 years\n",
      "[('2011:2018', 47), ('2010:2017', 45), ('2012:2019', 45), ('2013:2020', 41), ('2006:2013', 38), ('2009:2016', 37), ('2014:2021', 37), ('2008:2015', 35), ('2016:2023', 33), ('2005:2012', 32), ('2007:2014', 32), ('2015:2022', 32), ('2001:2008', 21), ('2003:2010', 21), ('2002:2009', 20), ('2000:2007', 19), ('2004:2011', 10)]\n",
      "Duration: 10 years\n",
      "[('2010:2019', 40), ('2011:2020', 38), ('2012:2021', 36), ('2009:2018', 34), ('2008:2017', 32), ('2013:2022', 32), ('2014:2023', 32), ('2005:2014', 27), ('2006:2015', 27), ('2007:2016', 26), ('2001:2010', 20), ('2000:2009', 18), ('2002:2011', 10), ('2003:2012', 10), ('2004:2013', 10)]\n",
      "Duration: 12 years\n",
      "[('2010:2021', 33), ('2012:2023', 31), ('2011:2022', 30), ('2008:2019', 29), ('2009:2020', 27), ('2006:2017', 26), ('2007:2018', 26), ('2005:2016', 21), ('2001:2012', 10), ('2002:2013', 10), ('2000:2011', 9), ('2003:2014', 5)]\n",
      "Duration: 15 years\n",
      "[('2006:2020', 21), ('2007:2021', 21), ('2009:2023', 20), ('2005:2019', 19), ('2008:2022', 19), ('2000:2014', 5)]\n"
     ]
    }
   ],
   "source": [
    "# print windows with best electricity data availability\n",
    "for d in durations:\n",
    "    print(\"Duration: %s years\"%d)\n",
    "    print([(item[0],item[1][0]) for item in sorted(periods_availability_elec[d].items(), key=lambda item: item[1][0], reverse=True) if item[1][0] > 0])"
   ]
  },
  {
   "cell_type": "code",
   "execution_count": 8,
   "metadata": {},
   "outputs": [
    {
     "name": "stdout",
     "output_type": "stream",
     "text": [
      "Duration: 5 years\n",
      "[('2018:2022', 24), ('2011:2015', 17), ('2012:2016', 17), ('2013:2017', 16), ('2014:2018', 14), ('2017:2021', 13), ('2015:2019', 12), ('2016:2020', 12), ('2019:2023', 6)]\n",
      "Duration: 6 years\n",
      "[('2011:2016', 15), ('2013:2018', 14), ('2012:2017', 12), ('2014:2019', 12), ('2016:2021', 12), ('2015:2020', 11), ('2017:2022', 11)]\n",
      "Duration: 8 years\n",
      "[('2013:2020', 11), ('2014:2021', 11), ('2011:2018', 10), ('2012:2019', 10), ('2015:2022', 9)]\n",
      "Duration: 10 years\n",
      "[('2012:2021', 10), ('2011:2020', 9), ('2013:2022', 9)]\n",
      "Duration: 12 years\n",
      "[('2011:2022', 7)]\n",
      "Duration: 15 years\n",
      "[]\n"
     ]
    }
   ],
   "source": [
    "# print windows with best electricity and gas data availability\n",
    "for d in durations:\n",
    "    print(\"Duration: %s years\"%d)\n",
    "    print([(item[0],item[1][0]) for item in sorted(periods_availability_both[d].items(), key=lambda item: item[1][0], reverse=True) if item[1][0] > 0])"
   ]
  },
  {
   "cell_type": "code",
   "execution_count": 9,
   "metadata": {},
   "outputs": [
    {
     "name": "stdout",
     "output_type": "stream",
     "text": [
      "[10, [0, 4, 8, 19, 24, 25, 40, 58, 101, 118]]\n"
     ]
    }
   ],
   "source": [
    "print(periods_availability_both[8]['2012:2019'])"
   ]
  },
  {
   "cell_type": "code",
   "execution_count": 10,
   "metadata": {},
   "outputs": [
    {
     "name": "stdout",
     "output_type": "stream",
     "text": [
      "[12, [0, 4, 8, 19, 24, 25, 40, 58, 101, 102, 104, 118]]\n"
     ]
    }
   ],
   "source": [
    "print(periods_availability_both[6]['2012:2017']) # VoI for LPs"
   ]
  },
  {
   "cell_type": "code",
   "execution_count": null,
   "metadata": {},
   "outputs": [],
   "source": []
  }
 ],
 "metadata": {
  "kernelspec": {
   "display_name": "CEBD",
   "language": "python",
   "name": "python3"
  },
  "language_info": {
   "codemirror_mode": {
    "name": "ipython",
    "version": 3
   },
   "file_extension": ".py",
   "mimetype": "text/x-python",
   "name": "python",
   "nbconvert_exporter": "python",
   "pygments_lexer": "ipython3",
   "version": "3.9.18"
  }
 },
 "nbformat": 4,
 "nbformat_minor": 2
}
