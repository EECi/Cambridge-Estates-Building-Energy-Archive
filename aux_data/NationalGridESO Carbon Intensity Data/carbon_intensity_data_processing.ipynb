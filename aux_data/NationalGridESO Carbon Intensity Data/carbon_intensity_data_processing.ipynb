{
 "cells": [
  {
   "attachments": {},
   "cell_type": "markdown",
   "metadata": {},
   "source": [
    "# Prepare Carbon Intensity Data from National Grid ESO\n",
    "\n",
    "The National Grid ESO provide grid electricity carbon intensity data from 2009 to current, at https://data.nationalgrideso.com/carbon-intensity1/historic-generation-mix\n",
    "\n",
    "\"This dataset contains data from the 1st of Jan 2009. It has seasonal decomposition applied to correct missing or irregular data points. The carbon intensity of electricity is a measure of how much Carbon dioxide emissions are produced per kilowatt hour of electricity consumed. The data is subject to change due to a data cleansing process taking place to provide the most accurate figures.\"\n",
    "\n",
    "Looking at https://dashboard.nationalgrideso.com/, and the scale of the provided dataset implies the units of carbon intensity are [gCO2/kWh] - units required are [kg_CO2/kWh]"
   ]
  },
  {
   "cell_type": "code",
   "execution_count": 1,
   "metadata": {},
   "outputs": [],
   "source": [
    "import pandas as pd\n",
    "import numpy as np\n",
    "import os"
   ]
  },
  {
   "cell_type": "code",
   "execution_count": 2,
   "metadata": {},
   "outputs": [],
   "source": [
    "dir = 'raw_data'\n",
    "fname = 'df_fuel_ckan.csv'\n",
    "fpath = os.path.join(dir, fname)"
   ]
  },
  {
   "attachments": {},
   "cell_type": "markdown",
   "metadata": {},
   "source": [
    "No metadata required as these figures are for the whole of the UK"
   ]
  },
  {
   "cell_type": "code",
   "execution_count": 3,
   "metadata": {},
   "outputs": [],
   "source": [
    "data = pd.read_csv(\n",
    "    fpath,\n",
    "    usecols=['DATETIME','CARBON_INTENSITY']\n",
    ")"
   ]
  },
  {
   "cell_type": "code",
   "execution_count": 4,
   "metadata": {},
   "outputs": [
    {
     "name": "stdout",
     "output_type": "stream",
     "text": [
      "                         DATETIME  CARBON_INTENSITY\n",
      "0       2009-01-01 00:00:00+00:00             525.0\n",
      "1       2009-01-01 00:30:00+00:00             526.0\n",
      "2       2009-01-01 01:00:00+00:00             527.0\n",
      "3       2009-01-01 01:30:00+00:00             528.0\n",
      "4       2009-01-01 02:00:00+00:00             529.0\n",
      "...                           ...               ...\n",
      "266660  2024-03-18 10:00:00+00:00             152.0\n",
      "266661  2024-03-18 10:30:00+00:00             144.0\n",
      "266662  2024-03-18 11:00:00+00:00             133.0\n",
      "266663  2024-03-18 11:30:00+00:00             126.0\n",
      "266664  2024-03-18 12:00:00+00:00             117.0\n",
      "\n",
      "[266665 rows x 2 columns]\n"
     ]
    }
   ],
   "source": [
    "print(data)"
   ]
  },
  {
   "cell_type": "code",
   "execution_count": 5,
   "metadata": {},
   "outputs": [],
   "source": [
    "# if last hour incomplete, delete that row\n",
    "if pd.Timestamp(data['DATETIME'].iloc[-1]).minute == 0:\n",
    "    data.drop(data.tail(1).index,inplace=True)"
   ]
  },
  {
   "cell_type": "code",
   "execution_count": 6,
   "metadata": {},
   "outputs": [],
   "source": [
    "hh_intensities = data['CARBON_INTENSITY'].to_numpy()/1000\n",
    "hr_intensities = np.around(np.mean([hh_intensities[:-1:2],hh_intensities[1::2]],axis=0), 3)\n",
    "\n",
    "assert not (True in np.isnan(hr_intensities))"
   ]
  },
  {
   "cell_type": "code",
   "execution_count": 7,
   "metadata": {},
   "outputs": [],
   "source": [
    "timestamps = [pd.Timestamp(ts) for ts in data['DATETIME'][::2]]"
   ]
  },
  {
   "cell_type": "code",
   "execution_count": 8,
   "metadata": {},
   "outputs": [],
   "source": [
    "intensities = pd.DataFrame({'datetime':timestamps,'Carbon Intensity [kg_CO2/kWh]':hr_intensities})"
   ]
  },
  {
   "cell_type": "code",
   "execution_count": 9,
   "metadata": {},
   "outputs": [
    {
     "name": "stdout",
     "output_type": "stream",
     "text": [
      "                        datetime  Carbon Intensity [kg_CO2/kWh]\n",
      "0      2009-01-01 00:00:00+00:00                          0.526\n",
      "1      2009-01-01 01:00:00+00:00                          0.528\n",
      "2      2009-01-01 02:00:00+00:00                          0.530\n",
      "3      2009-01-01 03:00:00+00:00                          0.531\n",
      "4      2009-01-01 04:00:00+00:00                          0.534\n",
      "...                          ...                            ...\n",
      "133327 2024-03-18 07:00:00+00:00                          0.178\n",
      "133328 2024-03-18 08:00:00+00:00                          0.166\n",
      "133329 2024-03-18 09:00:00+00:00                          0.159\n",
      "133330 2024-03-18 10:00:00+00:00                          0.148\n",
      "133331 2024-03-18 11:00:00+00:00                          0.130\n",
      "\n",
      "[133332 rows x 2 columns]\n"
     ]
    }
   ],
   "source": [
    "print(intensities)"
   ]
  },
  {
   "cell_type": "code",
   "execution_count": null,
   "metadata": {},
   "outputs": [],
   "source": []
  },
  {
   "cell_type": "code",
   "execution_count": 10,
   "metadata": {},
   "outputs": [],
   "source": [
    "# save processed data to csv\n",
    "years = range(2009,2024)\n",
    "save_dir = os.path.join('processed_data')\n",
    "if not os.path.exists(save_dir):\n",
    "    os.makedirs(save_dir)\n",
    "\n",
    "for year in years:\n",
    "    year_data = intensities[intensities['datetime'].dt.year == year].copy()\n",
    "    year_data['datetime'] = year_data['datetime'].apply(lambda x: x.strftime('%Y-%m-%d %H:%M:%S'))\n",
    "    year_data.to_csv(os.path.join(save_dir,f'{year}.csv'), index=False)\n",
    "\n",
    "intensities.to_csv(os.path.join(save_dir,f'{year}.csv'), index=False)"
   ]
  },
  {
   "attachments": {},
   "cell_type": "markdown",
   "metadata": {},
   "source": [
    "Interesting note: numpy uses a round to even convention, which apparently is more mathematically desirable - https://stackoverflow.com/questions/28617841/rounding-to-nearest-int-with-numpy-rint-not-consistent-for-5"
   ]
  },
  {
   "cell_type": "markdown",
   "metadata": {},
   "source": []
  }
 ],
 "metadata": {
  "kernelspec": {
   "display_name": "CityLearn",
   "language": "python",
   "name": "python3"
  },
  "language_info": {
   "codemirror_mode": {
    "name": "ipython",
    "version": 3
   },
   "file_extension": ".py",
   "mimetype": "text/x-python",
   "name": "python",
   "nbconvert_exporter": "python",
   "pygments_lexer": "ipython3",
   "version": "3.9.18"
  },
  "orig_nbformat": 4,
  "vscode": {
   "interpreter": {
    "hash": "19cf59d1263503ae45811c0afc42e401269b1675e31fff20a39b49ff6c64a80e"
   }
  }
 },
 "nbformat": 4,
 "nbformat_minor": 2
}
