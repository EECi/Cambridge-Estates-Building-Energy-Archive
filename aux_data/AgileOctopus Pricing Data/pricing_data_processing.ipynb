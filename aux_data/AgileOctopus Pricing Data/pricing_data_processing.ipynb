{
 "cells": [
  {
   "attachments": {},
   "cell_type": "markdown",
   "metadata": {},
   "source": [
    "# Prepare Electricity Pricing Data from Agile Octopus Downloads"
   ]
  },
  {
   "attachments": {},
   "cell_type": "markdown",
   "metadata": {},
   "source": [
    "Agile Octopus has:\n",
    "- import (buy price) data from 18th Feb 2018\n",
    "- outgoing (sell price) data from 15th May 2019\n",
    "\n",
    "Available at: https://energy-stats.uk/download-historical-pricing-data/\n",
    "\n",
    "Pricing data is given by Distribution Network Operator region (see https://commons.wikimedia.org/wiki/File:DNO_map.png)"
   ]
  },
  {
   "cell_type": "code",
   "execution_count": 1,
   "metadata": {},
   "outputs": [],
   "source": [
    "import pandas as pd\n",
    "import numpy as np\n",
    "import os"
   ]
  },
  {
   "cell_type": "code",
   "execution_count": 2,
   "metadata": {},
   "outputs": [],
   "source": [
    "pricing_metadata = {\n",
    "    'region': 'Eastern England',\n",
    "    'code': 'A'\n",
    "}"
   ]
  },
  {
   "cell_type": "code",
   "execution_count": 3,
   "metadata": {},
   "outputs": [],
   "source": [
    "dir = 'raw_data'\n",
    "fname = 'csv_agile_{0}_{1}.csv'.format(pricing_metadata['code'],pricing_metadata['region'].replace(' ','_'))\n",
    "fpath = os.path.join(dir, fname)"
   ]
  },
  {
   "cell_type": "code",
   "execution_count": 4,
   "metadata": {},
   "outputs": [],
   "source": [
    "data = pd.read_csv(\n",
    "    fpath,\n",
    "    names=['time','price'],\n",
    "    header=None,\n",
    "    usecols=[0,4]\n",
    ")"
   ]
  },
  {
   "cell_type": "code",
   "execution_count": 5,
   "metadata": {},
   "outputs": [
    {
     "name": "stdout",
     "output_type": "stream",
     "text": [
      "                             time    price\n",
      "0       2018-02-21 00:00:00+00:00  10.3425\n",
      "1       2018-02-21 00:30:00+00:00  10.5735\n",
      "2       2018-02-21 01:00:00+00:00  10.6680\n",
      "3       2018-02-21 01:30:00+00:00  10.1850\n",
      "4       2018-02-21 02:00:00+00:00  10.1430\n",
      "...                           ...      ...\n",
      "106457  2024-03-18 20:30:00+00:00  14.7735\n",
      "106458  2024-03-18 21:00:00+00:00  14.2905\n",
      "106459  2024-03-18 21:30:00+00:00  12.1695\n",
      "106460  2024-03-18 22:00:00+00:00  14.7735\n",
      "106461  2024-03-18 22:30:00+00:00  11.6865\n",
      "\n",
      "[106462 rows x 2 columns]\n"
     ]
    }
   ],
   "source": [
    "print(data)"
   ]
  },
  {
   "cell_type": "code",
   "execution_count": 6,
   "metadata": {},
   "outputs": [],
   "source": [
    "hh_prices = data['price'].to_numpy()\n",
    "hr_prices = np.around(np.mean([hh_prices[:-1:2],hh_prices[1::2]],axis=0)/100, 4)\n",
    "assert not (True in np.isnan(hr_prices))"
   ]
  },
  {
   "cell_type": "code",
   "execution_count": 7,
   "metadata": {},
   "outputs": [],
   "source": [
    "timestamps = [pd.Timestamp(ts) for ts in data['time'][::2]]"
   ]
  },
  {
   "cell_type": "code",
   "execution_count": 8,
   "metadata": {},
   "outputs": [],
   "source": [
    "in_prices = pd.DataFrame({'datetime':timestamps,'Electricity Pricing [£/kWh]':hr_prices})"
   ]
  },
  {
   "cell_type": "code",
   "execution_count": 9,
   "metadata": {},
   "outputs": [
    {
     "name": "stdout",
     "output_type": "stream",
     "text": [
      "                       datetime  Electricity Pricing [£/kWh]\n",
      "0     2018-02-21 00:00:00+00:00                       0.1046\n",
      "1     2018-02-21 01:00:00+00:00                       0.1043\n",
      "2     2018-02-21 02:00:00+00:00                       0.1017\n",
      "3     2018-02-21 03:00:00+00:00                       0.1034\n",
      "4     2018-02-21 04:00:00+00:00                       0.0992\n",
      "...                         ...                          ...\n",
      "53226 2024-03-18 18:00:00+00:00                       0.3457\n",
      "53227 2024-03-18 19:00:00+00:00                       0.1799\n",
      "53228 2024-03-18 20:00:00+00:00                       0.1451\n",
      "53229 2024-03-18 21:00:00+00:00                       0.1323\n",
      "53230 2024-03-18 22:00:00+00:00                       0.1323\n",
      "\n",
      "[53231 rows x 2 columns]\n"
     ]
    }
   ],
   "source": [
    "print(in_prices)"
   ]
  },
  {
   "cell_type": "code",
   "execution_count": 10,
   "metadata": {},
   "outputs": [],
   "source": [
    "# save processed data to csv by year\n",
    "years = range(2019,2024)\n",
    "save_dir = os.path.join('processed_data','import_price_reg{0}'.format(pricing_metadata['code']))\n",
    "\n",
    "if not os.path.exists(save_dir):\n",
    "    os.makedirs(save_dir)\n",
    "\n",
    "for year in years:\n",
    "    year_data = in_prices[in_prices['datetime'].dt.year == year].copy()\n",
    "    year_data['datetime'] = year_data['datetime'].apply(lambda x: x.strftime('%Y-%m-%d %H:%M:%S'))\n",
    "    year_data.to_csv(os.path.join(save_dir,f'{year}.csv'), index=False)"
   ]
  },
  {
   "attachments": {},
   "cell_type": "markdown",
   "metadata": {},
   "source": [
    "Repeat for outgoing data, and maybe make a list of average of the two to get a better estimate on true grid costs?"
   ]
  },
  {
   "cell_type": "code",
   "execution_count": null,
   "metadata": {},
   "outputs": [],
   "source": []
  }
 ],
 "metadata": {
  "kernelspec": {
   "display_name": "CityLearn",
   "language": "python",
   "name": "python3"
  },
  "language_info": {
   "codemirror_mode": {
    "name": "ipython",
    "version": 3
   },
   "file_extension": ".py",
   "mimetype": "text/x-python",
   "name": "python",
   "nbconvert_exporter": "python",
   "pygments_lexer": "ipython3",
   "version": "3.9.18"
  },
  "orig_nbformat": 4,
  "vscode": {
   "interpreter": {
    "hash": "19cf59d1263503ae45811c0afc42e401269b1675e31fff20a39b49ff6c64a80e"
   }
  }
 },
 "nbformat": 4,
 "nbformat_minor": 2
}
