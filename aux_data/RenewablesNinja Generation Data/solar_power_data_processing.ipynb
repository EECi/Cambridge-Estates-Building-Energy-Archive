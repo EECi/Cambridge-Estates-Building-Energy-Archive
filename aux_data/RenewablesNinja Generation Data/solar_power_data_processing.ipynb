{
 "cells": [
  {
   "attachments": {},
   "cell_type": "markdown",
   "metadata": {},
   "source": [
    "# Pull Solar Generation Data from Renewables.ninja and Prepare\n",
    "\n",
    "**Note: Renewables.ninja can be used to pull solar generation data from any location (globally), but is limited to the time range 2000 to end 2020**"
   ]
  },
  {
   "cell_type": "code",
   "execution_count": 1,
   "metadata": {},
   "outputs": [],
   "source": [
    "import pandas as pd\n",
    "import numpy as np\n",
    "import os\n",
    "import json\n",
    "import time\n",
    "import requests\n",
    "import urllib3\n",
    "import yaml"
   ]
  },
  {
   "cell_type": "code",
   "execution_count": 2,
   "metadata": {},
   "outputs": [],
   "source": [
    "# location of Cambridge Botanic Garden weather station\n",
    "# from https://www.metoffice.gov.uk/research/climate/maps-and-data/uk-synoptic-and-climate-stations\n",
    "latlon = [52.194, 0.131] # location to get data for\n",
    "years = list(range(2000,2024)) # years of data to retrieve\n",
    "\n",
    "system_loss = None\n",
    "tracking = None\n",
    "tilt = None\n",
    "azim = None"
   ]
  },
  {
   "cell_type": "code",
   "execution_count": 3,
   "metadata": {},
   "outputs": [],
   "source": [
    "# set default pv attributes\n",
    "if not system_loss: system_loss = 0\n",
    "if not tracking: tracking = 2\n",
    "if not tilt: tilt = 0\n",
    "if not azim: azim = 180 # south facing, see docs"
   ]
  },
  {
   "attachments": {},
   "cell_type": "markdown",
   "metadata": {},
   "source": [
    "**NOTE**: an API token is required to access the data, see docs for more info - https://www.renewables.ninja/documentation/api"
   ]
  },
  {
   "cell_type": "code",
   "execution_count": 7,
   "metadata": {},
   "outputs": [],
   "source": [
    "# get API token\n",
    "with open('api.yaml') as f:\n",
    "    api_creds = yaml.load(f, Loader=yaml.FullLoader)"
   ]
  },
  {
   "cell_type": "code",
   "execution_count": 4,
   "metadata": {},
   "outputs": [
    {
     "name": "stdout",
     "output_type": "stream",
     "text": [
      "Data for 2000 pulled successfully\n"
     ]
    },
    {
     "name": "stderr",
     "output_type": "stream",
     "text": [
      "/var/folders/xj/y66v8msx1h52bvwjcrhl3ws40000gp/T/ipykernel_18541/920788222.py:41: FutureWarning: Passing literal json to 'read_json' is deprecated and will be removed in a future version. To read from a literal string, wrap it in a 'StringIO' object.\n",
      "  data = pd.read_json(json.dumps(parsed_response['data']), orient='index')\n"
     ]
    },
    {
     "name": "stdout",
     "output_type": "stream",
     "text": [
      "Data for 2001 pulled successfully\n"
     ]
    },
    {
     "name": "stderr",
     "output_type": "stream",
     "text": [
      "/var/folders/xj/y66v8msx1h52bvwjcrhl3ws40000gp/T/ipykernel_18541/920788222.py:41: FutureWarning: Passing literal json to 'read_json' is deprecated and will be removed in a future version. To read from a literal string, wrap it in a 'StringIO' object.\n",
      "  data = pd.read_json(json.dumps(parsed_response['data']), orient='index')\n"
     ]
    },
    {
     "name": "stdout",
     "output_type": "stream",
     "text": [
      "Data for 2002 pulled successfully\n"
     ]
    },
    {
     "name": "stderr",
     "output_type": "stream",
     "text": [
      "/var/folders/xj/y66v8msx1h52bvwjcrhl3ws40000gp/T/ipykernel_18541/920788222.py:41: FutureWarning: Passing literal json to 'read_json' is deprecated and will be removed in a future version. To read from a literal string, wrap it in a 'StringIO' object.\n",
      "  data = pd.read_json(json.dumps(parsed_response['data']), orient='index')\n"
     ]
    },
    {
     "name": "stdout",
     "output_type": "stream",
     "text": [
      "Data for 2003 pulled successfully\n"
     ]
    },
    {
     "name": "stderr",
     "output_type": "stream",
     "text": [
      "/var/folders/xj/y66v8msx1h52bvwjcrhl3ws40000gp/T/ipykernel_18541/920788222.py:41: FutureWarning: Passing literal json to 'read_json' is deprecated and will be removed in a future version. To read from a literal string, wrap it in a 'StringIO' object.\n",
      "  data = pd.read_json(json.dumps(parsed_response['data']), orient='index')\n"
     ]
    },
    {
     "name": "stdout",
     "output_type": "stream",
     "text": [
      "Data for 2004 pulled successfully\n"
     ]
    },
    {
     "name": "stderr",
     "output_type": "stream",
     "text": [
      "/var/folders/xj/y66v8msx1h52bvwjcrhl3ws40000gp/T/ipykernel_18541/920788222.py:41: FutureWarning: Passing literal json to 'read_json' is deprecated and will be removed in a future version. To read from a literal string, wrap it in a 'StringIO' object.\n",
      "  data = pd.read_json(json.dumps(parsed_response['data']), orient='index')\n"
     ]
    },
    {
     "name": "stdout",
     "output_type": "stream",
     "text": [
      "Data for 2005 pulled successfully\n"
     ]
    },
    {
     "name": "stderr",
     "output_type": "stream",
     "text": [
      "/var/folders/xj/y66v8msx1h52bvwjcrhl3ws40000gp/T/ipykernel_18541/920788222.py:41: FutureWarning: Passing literal json to 'read_json' is deprecated and will be removed in a future version. To read from a literal string, wrap it in a 'StringIO' object.\n",
      "  data = pd.read_json(json.dumps(parsed_response['data']), orient='index')\n"
     ]
    },
    {
     "name": "stdout",
     "output_type": "stream",
     "text": [
      "Data for 2006 pulled successfully\n"
     ]
    },
    {
     "name": "stderr",
     "output_type": "stream",
     "text": [
      "/var/folders/xj/y66v8msx1h52bvwjcrhl3ws40000gp/T/ipykernel_18541/920788222.py:41: FutureWarning: Passing literal json to 'read_json' is deprecated and will be removed in a future version. To read from a literal string, wrap it in a 'StringIO' object.\n",
      "  data = pd.read_json(json.dumps(parsed_response['data']), orient='index')\n"
     ]
    },
    {
     "name": "stdout",
     "output_type": "stream",
     "text": [
      "Data for 2007 pulled successfully\n"
     ]
    },
    {
     "name": "stderr",
     "output_type": "stream",
     "text": [
      "/var/folders/xj/y66v8msx1h52bvwjcrhl3ws40000gp/T/ipykernel_18541/920788222.py:41: FutureWarning: Passing literal json to 'read_json' is deprecated and will be removed in a future version. To read from a literal string, wrap it in a 'StringIO' object.\n",
      "  data = pd.read_json(json.dumps(parsed_response['data']), orient='index')\n"
     ]
    },
    {
     "name": "stdout",
     "output_type": "stream",
     "text": [
      "Data for 2008 pulled successfully\n"
     ]
    },
    {
     "name": "stderr",
     "output_type": "stream",
     "text": [
      "/var/folders/xj/y66v8msx1h52bvwjcrhl3ws40000gp/T/ipykernel_18541/920788222.py:41: FutureWarning: Passing literal json to 'read_json' is deprecated and will be removed in a future version. To read from a literal string, wrap it in a 'StringIO' object.\n",
      "  data = pd.read_json(json.dumps(parsed_response['data']), orient='index')\n"
     ]
    },
    {
     "name": "stdout",
     "output_type": "stream",
     "text": [
      "Data for 2009 pulled successfully\n"
     ]
    },
    {
     "name": "stderr",
     "output_type": "stream",
     "text": [
      "/var/folders/xj/y66v8msx1h52bvwjcrhl3ws40000gp/T/ipykernel_18541/920788222.py:41: FutureWarning: Passing literal json to 'read_json' is deprecated and will be removed in a future version. To read from a literal string, wrap it in a 'StringIO' object.\n",
      "  data = pd.read_json(json.dumps(parsed_response['data']), orient='index')\n"
     ]
    },
    {
     "name": "stdout",
     "output_type": "stream",
     "text": [
      "Data for 2010 pulled successfully\n"
     ]
    },
    {
     "name": "stderr",
     "output_type": "stream",
     "text": [
      "/var/folders/xj/y66v8msx1h52bvwjcrhl3ws40000gp/T/ipykernel_18541/920788222.py:41: FutureWarning: Passing literal json to 'read_json' is deprecated and will be removed in a future version. To read from a literal string, wrap it in a 'StringIO' object.\n",
      "  data = pd.read_json(json.dumps(parsed_response['data']), orient='index')\n"
     ]
    },
    {
     "name": "stdout",
     "output_type": "stream",
     "text": [
      "Data for 2011 pulled successfully\n"
     ]
    },
    {
     "name": "stderr",
     "output_type": "stream",
     "text": [
      "/var/folders/xj/y66v8msx1h52bvwjcrhl3ws40000gp/T/ipykernel_18541/920788222.py:41: FutureWarning: Passing literal json to 'read_json' is deprecated and will be removed in a future version. To read from a literal string, wrap it in a 'StringIO' object.\n",
      "  data = pd.read_json(json.dumps(parsed_response['data']), orient='index')\n"
     ]
    },
    {
     "name": "stdout",
     "output_type": "stream",
     "text": [
      "Data for 2012 pulled successfully\n"
     ]
    },
    {
     "name": "stderr",
     "output_type": "stream",
     "text": [
      "/var/folders/xj/y66v8msx1h52bvwjcrhl3ws40000gp/T/ipykernel_18541/920788222.py:41: FutureWarning: Passing literal json to 'read_json' is deprecated and will be removed in a future version. To read from a literal string, wrap it in a 'StringIO' object.\n",
      "  data = pd.read_json(json.dumps(parsed_response['data']), orient='index')\n"
     ]
    },
    {
     "name": "stdout",
     "output_type": "stream",
     "text": [
      "Data for 2013 pulled successfully\n"
     ]
    },
    {
     "name": "stderr",
     "output_type": "stream",
     "text": [
      "/var/folders/xj/y66v8msx1h52bvwjcrhl3ws40000gp/T/ipykernel_18541/920788222.py:41: FutureWarning: Passing literal json to 'read_json' is deprecated and will be removed in a future version. To read from a literal string, wrap it in a 'StringIO' object.\n",
      "  data = pd.read_json(json.dumps(parsed_response['data']), orient='index')\n"
     ]
    },
    {
     "name": "stdout",
     "output_type": "stream",
     "text": [
      "Data for 2014 pulled successfully\n"
     ]
    },
    {
     "name": "stderr",
     "output_type": "stream",
     "text": [
      "/var/folders/xj/y66v8msx1h52bvwjcrhl3ws40000gp/T/ipykernel_18541/920788222.py:41: FutureWarning: Passing literal json to 'read_json' is deprecated and will be removed in a future version. To read from a literal string, wrap it in a 'StringIO' object.\n",
      "  data = pd.read_json(json.dumps(parsed_response['data']), orient='index')\n"
     ]
    },
    {
     "name": "stdout",
     "output_type": "stream",
     "text": [
      "Data for 2015 pulled successfully\n"
     ]
    },
    {
     "name": "stderr",
     "output_type": "stream",
     "text": [
      "/var/folders/xj/y66v8msx1h52bvwjcrhl3ws40000gp/T/ipykernel_18541/920788222.py:41: FutureWarning: Passing literal json to 'read_json' is deprecated and will be removed in a future version. To read from a literal string, wrap it in a 'StringIO' object.\n",
      "  data = pd.read_json(json.dumps(parsed_response['data']), orient='index')\n"
     ]
    },
    {
     "name": "stdout",
     "output_type": "stream",
     "text": [
      "Data for 2016 pulled successfully\n"
     ]
    },
    {
     "name": "stderr",
     "output_type": "stream",
     "text": [
      "/var/folders/xj/y66v8msx1h52bvwjcrhl3ws40000gp/T/ipykernel_18541/920788222.py:41: FutureWarning: Passing literal json to 'read_json' is deprecated and will be removed in a future version. To read from a literal string, wrap it in a 'StringIO' object.\n",
      "  data = pd.read_json(json.dumps(parsed_response['data']), orient='index')\n"
     ]
    },
    {
     "name": "stdout",
     "output_type": "stream",
     "text": [
      "Data for 2017 pulled successfully\n"
     ]
    },
    {
     "name": "stderr",
     "output_type": "stream",
     "text": [
      "/var/folders/xj/y66v8msx1h52bvwjcrhl3ws40000gp/T/ipykernel_18541/920788222.py:41: FutureWarning: Passing literal json to 'read_json' is deprecated and will be removed in a future version. To read from a literal string, wrap it in a 'StringIO' object.\n",
      "  data = pd.read_json(json.dumps(parsed_response['data']), orient='index')\n"
     ]
    },
    {
     "name": "stdout",
     "output_type": "stream",
     "text": [
      "Data for 2018 pulled successfully\n"
     ]
    },
    {
     "name": "stderr",
     "output_type": "stream",
     "text": [
      "/var/folders/xj/y66v8msx1h52bvwjcrhl3ws40000gp/T/ipykernel_18541/920788222.py:41: FutureWarning: Passing literal json to 'read_json' is deprecated and will be removed in a future version. To read from a literal string, wrap it in a 'StringIO' object.\n",
      "  data = pd.read_json(json.dumps(parsed_response['data']), orient='index')\n"
     ]
    },
    {
     "name": "stdout",
     "output_type": "stream",
     "text": [
      "Data for 2019 pulled successfully\n"
     ]
    },
    {
     "name": "stderr",
     "output_type": "stream",
     "text": [
      "/var/folders/xj/y66v8msx1h52bvwjcrhl3ws40000gp/T/ipykernel_18541/920788222.py:41: FutureWarning: Passing literal json to 'read_json' is deprecated and will be removed in a future version. To read from a literal string, wrap it in a 'StringIO' object.\n",
      "  data = pd.read_json(json.dumps(parsed_response['data']), orient='index')\n"
     ]
    },
    {
     "name": "stdout",
     "output_type": "stream",
     "text": [
      "Data for 2020 pulled successfully\n"
     ]
    },
    {
     "name": "stderr",
     "output_type": "stream",
     "text": [
      "/var/folders/xj/y66v8msx1h52bvwjcrhl3ws40000gp/T/ipykernel_18541/920788222.py:41: FutureWarning: Passing literal json to 'read_json' is deprecated and will be removed in a future version. To read from a literal string, wrap it in a 'StringIO' object.\n",
      "  data = pd.read_json(json.dumps(parsed_response['data']), orient='index')\n"
     ]
    },
    {
     "name": "stdout",
     "output_type": "stream",
     "text": [
      "Data for 2021 pulled successfully\n"
     ]
    },
    {
     "name": "stderr",
     "output_type": "stream",
     "text": [
      "/var/folders/xj/y66v8msx1h52bvwjcrhl3ws40000gp/T/ipykernel_18541/920788222.py:41: FutureWarning: Passing literal json to 'read_json' is deprecated and will be removed in a future version. To read from a literal string, wrap it in a 'StringIO' object.\n",
      "  data = pd.read_json(json.dumps(parsed_response['data']), orient='index')\n"
     ]
    },
    {
     "name": "stdout",
     "output_type": "stream",
     "text": [
      "Data for 2022 pulled successfully\n"
     ]
    },
    {
     "name": "stderr",
     "output_type": "stream",
     "text": [
      "/var/folders/xj/y66v8msx1h52bvwjcrhl3ws40000gp/T/ipykernel_18541/920788222.py:41: FutureWarning: Passing literal json to 'read_json' is deprecated and will be removed in a future version. To read from a literal string, wrap it in a 'StringIO' object.\n",
      "  data = pd.read_json(json.dumps(parsed_response['data']), orient='index')\n"
     ]
    },
    {
     "name": "stdout",
     "output_type": "stream",
     "text": [
      "Data for 2023 pulled successfully\n",
      "Pulling data completed\n"
     ]
    },
    {
     "name": "stderr",
     "output_type": "stream",
     "text": [
      "/var/folders/xj/y66v8msx1h52bvwjcrhl3ws40000gp/T/ipykernel_18541/920788222.py:41: FutureWarning: Passing literal json to 'read_json' is deprecated and will be removed in a future version. To read from a literal string, wrap it in a 'StringIO' object.\n",
      "  data = pd.read_json(json.dumps(parsed_response['data']), orient='index')\n"
     ]
    }
   ],
   "source": [
    "urllib3.disable_warnings(urllib3.exceptions.InsecureRequestWarning)\n",
    "\n",
    "token = api_creds['credentials']['token']\n",
    "url = 'https://www.renewables.ninja/api/data/pv'\n",
    "\n",
    "s = requests.session()\n",
    "s.headers = {'Authorization': 'Token ' + token}\n",
    "\n",
    "args = {\n",
    "    'lat': latlon[0],\n",
    "    'lon': latlon[1],\n",
    "    'date_from': '', #doesn't matter, will be overwritten\n",
    "    'date_to': '', #doesn't matter, will be overwritten\n",
    "    'dataset': 'merra2',\n",
    "    'capacity': 1,\n",
    "    'system_loss': system_loss,\n",
    "    'tracking': tracking,\n",
    "    'tilt': tilt,\n",
    "    'azim': azim,\n",
    "    'format': 'json',\n",
    "    'raw': 'true' # get raw weather data as well\n",
    "}\n",
    "\n",
    "data_per_year = []\n",
    "metadata = []\n",
    "for year in years:\n",
    "    args['date_from'] = str(year) + '-01-01'\n",
    "    args['date_to'] = str(year) + '-12-31'\n",
    "    time.sleep(10 if year > 2000 else 0) # used to space out api calls\n",
    "    r = s.get(url, params=args, verify=False)\n",
    "    if r.status_code != 200:\n",
    "        print('Error (' + str(r.status_code) + ') getting data for year ' + str(year))\n",
    "        print(r.text)\n",
    "        cont = input(\"Data pull failed. Save partial data set? (y/n): \")\n",
    "        if (cont not in ['yes','y','Yes','Y','yep']):\n",
    "                pull_successful = False\n",
    "                raise\n",
    "        break\n",
    "    print('Data for ' + str(year) + ' pulled successfully') \n",
    "    parsed_response = json.loads(r.text)\n",
    "    data = pd.read_json(json.dumps(parsed_response['data']), orient='index')\n",
    "    # at this point I could save the yearly data to CSVs for later access?\n",
    "    data_per_year.append(data)\n",
    "    metadata = parsed_response['metadata']\n",
    "print('Pulling data completed')"
   ]
  },
  {
   "cell_type": "code",
   "execution_count": 5,
   "metadata": {},
   "outputs": [],
   "source": [
    "pv_gen_data = pd.DataFrame()\n",
    "\n",
    "for i in range(len(years)):\n",
    "    pv_gen_data = pd.concat([pv_gen_data, data_per_year[i].rename_axis('datetime').reset_index()],ignore_index=True)\n",
    "\n",
    "# convert units to Watts\n",
    "pv_gen_data['electricity'] = np.around(pv_gen_data['electricity']*1000,1)\n",
    "pv_gen_data['irradiance_direct'] = np.around(pv_gen_data['irradiance_direct']*1000,1)\n",
    "pv_gen_data['irradiance_diffuse'] = np.around(pv_gen_data['irradiance_diffuse']*1000,1)\n",
    "\n",
    "pv_gen_data.round({'temperature':3})\n",
    "\n",
    "pv_gen_data.rename(columns={\n",
    "    'electricity':'solar generation [W/kW]',\n",
    "    'irradiance_direct':'irradiance_direct [W/m2]',\n",
    "    'irradiance_diffuse':'irradiance_diffuse [W/m2]',\n",
    "    'temperature':'temperature [degC]'\n",
    "    },inplace=True)"
   ]
  },
  {
   "cell_type": "code",
   "execution_count": 6,
   "metadata": {},
   "outputs": [],
   "source": [
    "# validate data availability\n",
    "for col in ['solar generation [W/kW]','irradiance_direct [W/m2]','irradiance_diffuse [W/m2]']:\n",
    "    assert not (True in np.isnan(pv_gen_data[col]))"
   ]
  },
  {
   "attachments": {},
   "cell_type": "markdown",
   "metadata": {},
   "source": [
    "### Note on irradiance units\n",
    "\n",
    "Unforunately, renewables.ninja does not provide unit information for the irradiance values returned when raw data is requested.\n",
    "\n",
    "However, looking at the codebase for the `gsee` package, https://github.com/renewables-ninja/gsee, which the renewables.ninja documentation says is used to produce the solar generation data, https://renewables.ninja/documentation, it can be determined that the irradiation values provided are most likely to be in units of [kW/m2].\n",
    "\n",
    "In the `gsee` code implementation, all irradiances are in units of [W/m2] - this is easiest seen by looking at the input units of `gsee.pv.PVPanel.panel_power(...)`, which is used in `pv.run_model(...)` to compute the pv power generation. However, the values returned by renewables.ninja are in the wrong scale, and are roughly 1000 times smaller than the values expected - comparing to https://solcast.com/solar-radiation-map/united-kingdom. So it is assumed the irradiance values are given in [kW/m2] to be consistent with the power units which are [kW]. Further evidence for this is found as the irradiance values returned do not change as the power capacity of the panel specified in the API call increases, indicating that they are normalised by the size of the panel."
   ]
  },
  {
   "cell_type": "code",
   "execution_count": 7,
   "metadata": {},
   "outputs": [
    {
     "name": "stdout",
     "output_type": "stream",
     "text": [
      "              datetime  solar generation [W/kW]  irradiance_direct [W/m2]  \\\n",
      "8  2000-01-01 08:00:00                      9.0                      12.0   \n",
      "9  2000-01-01 09:00:00                    101.0                      70.0   \n",
      "10 2000-01-01 10:00:00                    284.0                     210.0   \n",
      "11 2000-01-01 11:00:00                    648.0                     587.0   \n",
      "12 2000-01-01 12:00:00                    660.0                     606.0   \n",
      "13 2000-01-01 13:00:00                    499.0                     434.0   \n",
      "14 2000-01-01 14:00:00                    226.0                     182.0   \n",
      "15 2000-01-01 15:00:00                     47.0                      49.0   \n",
      "16 2000-01-01 16:00:00                      0.0                       0.0   \n",
      "17 2000-01-01 17:00:00                      0.0                       0.0   \n",
      "18 2000-01-01 18:00:00                      0.0                       0.0   \n",
      "19 2000-01-01 19:00:00                      0.0                       0.0   \n",
      "\n",
      "    irradiance_diffuse [W/m2]  temperature [degC]  \n",
      "8                         6.0               4.016  \n",
      "9                        40.0               4.065  \n",
      "10                       72.0               4.716  \n",
      "11                       73.0               5.802  \n",
      "12                       71.0               6.691  \n",
      "13                       67.0               6.944  \n",
      "14                       46.0               5.628  \n",
      "15                       10.0               3.318  \n",
      "16                        0.0               2.173  \n",
      "17                        0.0               1.947  \n",
      "18                        0.0               1.951  \n",
      "19                        0.0               2.686  \n"
     ]
    }
   ],
   "source": [
    "print(pv_gen_data.iloc[8:20])"
   ]
  },
  {
   "cell_type": "code",
   "execution_count": 8,
   "metadata": {},
   "outputs": [
    {
     "name": "stdout",
     "output_type": "stream",
     "text": [
      "{'units': {'time': 'UTC', 'electricity': 'kW', 'irradiance_direct': 'unknown', 'irradiance_diffuse': 'unknown', 'temperature': 'ºC'}, 'params': {'lat': '52.194', 'lon': '0.131', 'date_from': '2023-01-01', 'date_to': '2023-12-31', 'dataset': 'merra2', 'capacity': '1', 'system_loss': '0', 'tracking': '2', 'tilt': '0', 'azim': '180', 'raw': True}}\n"
     ]
    }
   ],
   "source": [
    "print(metadata)"
   ]
  },
  {
   "cell_type": "code",
   "execution_count": 9,
   "metadata": {},
   "outputs": [],
   "source": [
    "# save processed data to csv\n",
    "location = 'cambridge'\n",
    "dir_name = '{0}_{1}_{2}'.format(location,str(latlon[0]).replace(\".\", \"-\"),str(latlon[1]).replace(\".\", \"-\"))\n",
    "save_dir = os.path.join('processed_data',dir_name)\n",
    "if not os.path.exists(save_dir):\n",
    "    os.mkdir(save_dir)\n",
    "\n",
    "for year in years:\n",
    "    year_data = pv_gen_data[pv_gen_data['datetime'].dt.year == year].copy()\n",
    "    year_data['datetime'] = year_data['datetime'].apply(lambda x: x.strftime('%Y-%m-%d %H:%M:%S'))\n",
    "    year_data.to_csv(os.path.join(save_dir,f'{year}.csv'), index=False)\n",
    "\n",
    "# save metadata\n",
    "mdata_save_path = os.path.join(save_dir,f\"{location}_mdata.json\")\n",
    "mdata_dict = {\n",
    "    'location':location,\n",
    "    'data_path':save_dir,\n",
    "    'years':years,\n",
    "    'RN_mdata':metadata\n",
    "    }\n",
    "with open(mdata_save_path, 'w') as file:\n",
    "    json.dump(mdata_dict, file, indent=4)"
   ]
  },
  {
   "cell_type": "code",
   "execution_count": null,
   "metadata": {},
   "outputs": [],
   "source": []
  }
 ],
 "metadata": {
  "kernelspec": {
   "display_name": "CityLearn",
   "language": "python",
   "name": "python3"
  },
  "language_info": {
   "codemirror_mode": {
    "name": "ipython",
    "version": 3
   },
   "file_extension": ".py",
   "mimetype": "text/x-python",
   "name": "python",
   "nbconvert_exporter": "python",
   "pygments_lexer": "ipython3",
   "version": "3.9.18"
  },
  "orig_nbformat": 4,
  "vscode": {
   "interpreter": {
    "hash": "19cf59d1263503ae45811c0afc42e401269b1675e31fff20a39b49ff6c64a80e"
   }
  }
 },
 "nbformat": 4,
 "nbformat_minor": 2
}
